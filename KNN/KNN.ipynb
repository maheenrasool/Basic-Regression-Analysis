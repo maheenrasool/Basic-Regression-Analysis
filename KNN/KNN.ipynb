{
 "cells": [
  {
   "cell_type": "code",
   "execution_count": 29,
   "id": "ca2c69f2",
   "metadata": {},
   "outputs": [],
   "source": [
    "import numpy as np\n",
    "import pandas as pd"
   ]
  },
  {
   "cell_type": "code",
   "execution_count": 30,
   "id": "3708e931",
   "metadata": {},
   "outputs": [],
   "source": [
    "dataset = pd.read_csv(r\"C:\\Users\\mahee\\Downloads\\KNN\\50_Startups_dataset.csv\")"
   ]
  },
  {
   "cell_type": "code",
   "execution_count": 31,
   "id": "2eb2c009",
   "metadata": {},
   "outputs": [
    {
     "name": "stdout",
     "output_type": "stream",
     "text": [
      "<class 'pandas.core.frame.DataFrame'>\n",
      "RangeIndex: 50 entries, 0 to 49\n",
      "Data columns (total 5 columns):\n",
      " #   Column           Non-Null Count  Dtype  \n",
      "---  ------           --------------  -----  \n",
      " 0   R&D Spend        50 non-null     float64\n",
      " 1   Administration   50 non-null     float64\n",
      " 2   Marketing Spend  50 non-null     float64\n",
      " 3   State            50 non-null     object \n",
      " 4   Profit           50 non-null     float64\n",
      "dtypes: float64(4), object(1)\n",
      "memory usage: 2.1+ KB\n"
     ]
    }
   ],
   "source": [
    "dataset.drop(\"Unnamed: 0\", axis = 1, inplace = True)\n",
    "dataset.info()"
   ]
  },
  {
   "cell_type": "code",
   "execution_count": 32,
   "id": "5ad782b9",
   "metadata": {},
   "outputs": [
    {
     "data": {
      "text/html": [
       "<div>\n",
       "<style scoped>\n",
       "    .dataframe tbody tr th:only-of-type {\n",
       "        vertical-align: middle;\n",
       "    }\n",
       "\n",
       "    .dataframe tbody tr th {\n",
       "        vertical-align: top;\n",
       "    }\n",
       "\n",
       "    .dataframe thead th {\n",
       "        text-align: right;\n",
       "    }\n",
       "</style>\n",
       "<table border=\"1\" class=\"dataframe\">\n",
       "  <thead>\n",
       "    <tr style=\"text-align: right;\">\n",
       "      <th></th>\n",
       "      <th>R&amp;D Spend</th>\n",
       "      <th>Administration</th>\n",
       "      <th>Marketing Spend</th>\n",
       "      <th>State</th>\n",
       "      <th>Profit</th>\n",
       "    </tr>\n",
       "  </thead>\n",
       "  <tbody>\n",
       "    <tr>\n",
       "      <th>0</th>\n",
       "      <td>165349.30</td>\n",
       "      <td>136897.90</td>\n",
       "      <td>471784.20</td>\n",
       "      <td>New York</td>\n",
       "      <td>192261.93</td>\n",
       "    </tr>\n",
       "    <tr>\n",
       "      <th>1</th>\n",
       "      <td>162597.80</td>\n",
       "      <td>151377.69</td>\n",
       "      <td>443898.63</td>\n",
       "      <td>California</td>\n",
       "      <td>191792.16</td>\n",
       "    </tr>\n",
       "    <tr>\n",
       "      <th>2</th>\n",
       "      <td>153441.61</td>\n",
       "      <td>101145.65</td>\n",
       "      <td>407934.64</td>\n",
       "      <td>Florida</td>\n",
       "      <td>191050.49</td>\n",
       "    </tr>\n",
       "    <tr>\n",
       "      <th>3</th>\n",
       "      <td>144372.51</td>\n",
       "      <td>118671.95</td>\n",
       "      <td>383199.72</td>\n",
       "      <td>New York</td>\n",
       "      <td>182902.09</td>\n",
       "    </tr>\n",
       "    <tr>\n",
       "      <th>4</th>\n",
       "      <td>142107.44</td>\n",
       "      <td>91391.87</td>\n",
       "      <td>366168.52</td>\n",
       "      <td>Florida</td>\n",
       "      <td>166188.04</td>\n",
       "    </tr>\n",
       "    <tr>\n",
       "      <th>5</th>\n",
       "      <td>131877.00</td>\n",
       "      <td>99814.81</td>\n",
       "      <td>362861.46</td>\n",
       "      <td>New York</td>\n",
       "      <td>156991.22</td>\n",
       "    </tr>\n",
       "    <tr>\n",
       "      <th>6</th>\n",
       "      <td>134615.56</td>\n",
       "      <td>147198.97</td>\n",
       "      <td>127716.92</td>\n",
       "      <td>California</td>\n",
       "      <td>156122.61</td>\n",
       "    </tr>\n",
       "    <tr>\n",
       "      <th>7</th>\n",
       "      <td>130298.23</td>\n",
       "      <td>145530.16</td>\n",
       "      <td>323876.78</td>\n",
       "      <td>Florida</td>\n",
       "      <td>155752.70</td>\n",
       "    </tr>\n",
       "    <tr>\n",
       "      <th>8</th>\n",
       "      <td>120542.62</td>\n",
       "      <td>148719.05</td>\n",
       "      <td>311613.39</td>\n",
       "      <td>New York</td>\n",
       "      <td>152211.87</td>\n",
       "    </tr>\n",
       "    <tr>\n",
       "      <th>9</th>\n",
       "      <td>123334.98</td>\n",
       "      <td>108679.27</td>\n",
       "      <td>304981.72</td>\n",
       "      <td>California</td>\n",
       "      <td>149760.06</td>\n",
       "    </tr>\n",
       "  </tbody>\n",
       "</table>\n",
       "</div>"
      ],
      "text/plain": [
       "   R&D Spend  Administration  Marketing Spend       State     Profit\n",
       "0  165349.30       136897.90        471784.20    New York  192261.93\n",
       "1  162597.80       151377.69        443898.63  California  191792.16\n",
       "2  153441.61       101145.65        407934.64     Florida  191050.49\n",
       "3  144372.51       118671.95        383199.72    New York  182902.09\n",
       "4  142107.44        91391.87        366168.52     Florida  166188.04\n",
       "5  131877.00        99814.81        362861.46    New York  156991.22\n",
       "6  134615.56       147198.97        127716.92  California  156122.61\n",
       "7  130298.23       145530.16        323876.78     Florida  155752.70\n",
       "8  120542.62       148719.05        311613.39    New York  152211.87\n",
       "9  123334.98       108679.27        304981.72  California  149760.06"
      ]
     },
     "execution_count": 32,
     "metadata": {},
     "output_type": "execute_result"
    }
   ],
   "source": [
    "dataset.head(10)"
   ]
  },
  {
   "cell_type": "code",
   "execution_count": 33,
   "id": "93b16027",
   "metadata": {},
   "outputs": [],
   "source": [
    "X = dataset.iloc[:,:-1]\n",
    "Y = dataset.iloc[:,-1].values"
   ]
  },
  {
   "cell_type": "code",
   "execution_count": 34,
   "id": "900159f9",
   "metadata": {},
   "outputs": [
    {
     "name": "stdout",
     "output_type": "stream",
     "text": [
      "Shape of X:  (50, 4)\n",
      "Shape of Y:  (50,)\n"
     ]
    }
   ],
   "source": [
    "print(\"Shape of X: \", X.shape)\n",
    "print(\"Shape of Y: \", Y.shape)"
   ]
  },
  {
   "cell_type": "code",
   "execution_count": 35,
   "id": "67ec46f6",
   "metadata": {},
   "outputs": [
    {
     "name": "stdout",
     "output_type": "stream",
     "text": [
      "    R&D Spend  Administration  Marketing Spend       State\n",
      "0   165349.30       136897.90        471784.20    New York\n",
      "1   162597.80       151377.69        443898.63  California\n",
      "2   153441.61       101145.65        407934.64     Florida\n",
      "3   144372.51       118671.95        383199.72    New York\n",
      "4   142107.44        91391.87        366168.52     Florida\n",
      "5   131877.00        99814.81        362861.46    New York\n",
      "6   134615.56       147198.97        127716.92  California\n",
      "7   130298.23       145530.16        323876.78     Florida\n",
      "8   120542.62       148719.05        311613.39    New York\n",
      "9   123334.98       108679.27        304981.72  California\n",
      "10  101913.18       110594.21        229161.05     Florida\n",
      "11  100672.06        91790.71        249744.65  California\n",
      "12   93863.85       127320.48        249839.54     Florida\n",
      "13   91992.49       135495.17        252665.03  California\n",
      "14  119943.34       156547.52        256513.02     Florida\n",
      "15  114523.71       122616.94        261776.33    New York\n",
      "16   78013.21       121597.65        264346.16  California\n",
      "17   94657.26       145077.68        282574.41    New York\n",
      "18   91749.26       114175.89        294919.67     Florida\n",
      "19   86419.80       153514.21             0.10    New York\n",
      "20   76253.96       113867.40        298664.57  California\n",
      "21   78389.57       153773.53        299737.39    New York\n",
      "22   73994.66       122782.85        303319.36     Florida\n",
      "23   67532.63       105751.13        304768.83     Florida\n",
      "24   77044.11        99281.44        140574.91    New York\n",
      "25   64664.81       139553.26        137962.72  California\n",
      "26   75328.97       144136.08        134050.17     Florida\n",
      "27   72107.70       127864.65        353183.91    New York\n",
      "28   66051.62       182645.66        118148.30     Florida\n",
      "29   65605.58       153032.16        107138.48    New York\n",
      "30   61994.58       115641.38         91131.34     Florida\n",
      "31   61136.48       152702.02         88218.33    New York\n",
      "32   63408.96       129219.71         46085.35  California\n",
      "33   55494.05       103057.59        214634.91     Florida\n",
      "34   46426.17       157694.02        210797.77  California\n",
      "35   46014.12        85047.54        205517.74    New York\n",
      "36   28663.86       127056.31        201126.92     Florida\n",
      "37   44070.05        51283.24        197029.52  California\n",
      "38   20229.69        65948.03        185265.20    New York\n",
      "39   38558.61        82982.19        174999.40  California\n",
      "40   28754.43       118546.15        172795.77  California\n",
      "41   27893.02        84710.87        164470.81     Florida\n",
      "42   23641.03        96189.73        148001.21  California\n",
      "43   15505.83       127382.40         35534.27    New York\n",
      "44   22177.84       154806.24         28334.82  California\n",
      "45    1000.33       124153.14          1904.03    New York\n",
      "46    1315.56       115816.31        297114.56     Florida\n",
      "47       0.10       135427.02             0.10  California\n",
      "48     542.15        51743.25             0.10    New York\n",
      "49       0.10       116983.90         45173.16  California\n",
      "Unique cities:  ['New York' 'California' 'Florida']\n"
     ]
    }
   ],
   "source": [
    "print(X) # data is categorized in cities\n",
    "print(\"Unique cities: \", X[\"State\"].unique())"
   ]
  },
  {
   "cell_type": "code",
   "execution_count": 36,
   "id": "fb2676f8",
   "metadata": {},
   "outputs": [
    {
     "name": "stdout",
     "output_type": "stream",
     "text": [
      "Input features:  [[0.0000000e+00 0.0000000e+00 1.0000000e+00 1.6534930e+05 1.3689790e+05\n",
      "  4.7178420e+05]\n",
      " [1.0000000e+00 0.0000000e+00 0.0000000e+00 1.6259780e+05 1.5137769e+05\n",
      "  4.4389863e+05]\n",
      " [0.0000000e+00 1.0000000e+00 0.0000000e+00 1.5344161e+05 1.0114565e+05\n",
      "  4.0793464e+05]\n",
      " [0.0000000e+00 0.0000000e+00 1.0000000e+00 1.4437251e+05 1.1867195e+05\n",
      "  3.8319972e+05]\n",
      " [0.0000000e+00 1.0000000e+00 0.0000000e+00 1.4210744e+05 9.1391870e+04\n",
      "  3.6616852e+05]\n",
      " [0.0000000e+00 0.0000000e+00 1.0000000e+00 1.3187700e+05 9.9814810e+04\n",
      "  3.6286146e+05]\n",
      " [1.0000000e+00 0.0000000e+00 0.0000000e+00 1.3461556e+05 1.4719897e+05\n",
      "  1.2771692e+05]\n",
      " [0.0000000e+00 1.0000000e+00 0.0000000e+00 1.3029823e+05 1.4553016e+05\n",
      "  3.2387678e+05]\n",
      " [0.0000000e+00 0.0000000e+00 1.0000000e+00 1.2054262e+05 1.4871905e+05\n",
      "  3.1161339e+05]\n",
      " [1.0000000e+00 0.0000000e+00 0.0000000e+00 1.2333498e+05 1.0867927e+05\n",
      "  3.0498172e+05]\n",
      " [0.0000000e+00 1.0000000e+00 0.0000000e+00 1.0191318e+05 1.1059421e+05\n",
      "  2.2916105e+05]\n",
      " [1.0000000e+00 0.0000000e+00 0.0000000e+00 1.0067206e+05 9.1790710e+04\n",
      "  2.4974465e+05]\n",
      " [0.0000000e+00 1.0000000e+00 0.0000000e+00 9.3863850e+04 1.2732048e+05\n",
      "  2.4983954e+05]\n",
      " [1.0000000e+00 0.0000000e+00 0.0000000e+00 9.1992490e+04 1.3549517e+05\n",
      "  2.5266503e+05]\n",
      " [0.0000000e+00 1.0000000e+00 0.0000000e+00 1.1994334e+05 1.5654752e+05\n",
      "  2.5651302e+05]\n",
      " [0.0000000e+00 0.0000000e+00 1.0000000e+00 1.1452371e+05 1.2261694e+05\n",
      "  2.6177633e+05]\n",
      " [1.0000000e+00 0.0000000e+00 0.0000000e+00 7.8013210e+04 1.2159765e+05\n",
      "  2.6434616e+05]\n",
      " [0.0000000e+00 0.0000000e+00 1.0000000e+00 9.4657260e+04 1.4507768e+05\n",
      "  2.8257441e+05]\n",
      " [0.0000000e+00 1.0000000e+00 0.0000000e+00 9.1749260e+04 1.1417589e+05\n",
      "  2.9491967e+05]\n",
      " [0.0000000e+00 0.0000000e+00 1.0000000e+00 8.6419800e+04 1.5351421e+05\n",
      "  1.0000000e-01]\n",
      " [1.0000000e+00 0.0000000e+00 0.0000000e+00 7.6253960e+04 1.1386740e+05\n",
      "  2.9866457e+05]\n",
      " [0.0000000e+00 0.0000000e+00 1.0000000e+00 7.8389570e+04 1.5377353e+05\n",
      "  2.9973739e+05]\n",
      " [0.0000000e+00 1.0000000e+00 0.0000000e+00 7.3994660e+04 1.2278285e+05\n",
      "  3.0331936e+05]\n",
      " [0.0000000e+00 1.0000000e+00 0.0000000e+00 6.7532630e+04 1.0575113e+05\n",
      "  3.0476883e+05]\n",
      " [0.0000000e+00 0.0000000e+00 1.0000000e+00 7.7044110e+04 9.9281440e+04\n",
      "  1.4057491e+05]\n",
      " [1.0000000e+00 0.0000000e+00 0.0000000e+00 6.4664810e+04 1.3955326e+05\n",
      "  1.3796272e+05]\n",
      " [0.0000000e+00 1.0000000e+00 0.0000000e+00 7.5328970e+04 1.4413608e+05\n",
      "  1.3405017e+05]\n",
      " [0.0000000e+00 0.0000000e+00 1.0000000e+00 7.2107700e+04 1.2786465e+05\n",
      "  3.5318391e+05]\n",
      " [0.0000000e+00 1.0000000e+00 0.0000000e+00 6.6051620e+04 1.8264566e+05\n",
      "  1.1814830e+05]\n",
      " [0.0000000e+00 0.0000000e+00 1.0000000e+00 6.5605580e+04 1.5303216e+05\n",
      "  1.0713848e+05]\n",
      " [0.0000000e+00 1.0000000e+00 0.0000000e+00 6.1994580e+04 1.1564138e+05\n",
      "  9.1131340e+04]\n",
      " [0.0000000e+00 0.0000000e+00 1.0000000e+00 6.1136480e+04 1.5270202e+05\n",
      "  8.8218330e+04]\n",
      " [1.0000000e+00 0.0000000e+00 0.0000000e+00 6.3408960e+04 1.2921971e+05\n",
      "  4.6085350e+04]\n",
      " [0.0000000e+00 1.0000000e+00 0.0000000e+00 5.5494050e+04 1.0305759e+05\n",
      "  2.1463491e+05]\n",
      " [1.0000000e+00 0.0000000e+00 0.0000000e+00 4.6426170e+04 1.5769402e+05\n",
      "  2.1079777e+05]\n",
      " [0.0000000e+00 0.0000000e+00 1.0000000e+00 4.6014120e+04 8.5047540e+04\n",
      "  2.0551774e+05]\n",
      " [0.0000000e+00 1.0000000e+00 0.0000000e+00 2.8663860e+04 1.2705631e+05\n",
      "  2.0112692e+05]\n",
      " [1.0000000e+00 0.0000000e+00 0.0000000e+00 4.4070050e+04 5.1283240e+04\n",
      "  1.9702952e+05]\n",
      " [0.0000000e+00 0.0000000e+00 1.0000000e+00 2.0229690e+04 6.5948030e+04\n",
      "  1.8526520e+05]\n",
      " [1.0000000e+00 0.0000000e+00 0.0000000e+00 3.8558610e+04 8.2982190e+04\n",
      "  1.7499940e+05]\n",
      " [1.0000000e+00 0.0000000e+00 0.0000000e+00 2.8754430e+04 1.1854615e+05\n",
      "  1.7279577e+05]\n",
      " [0.0000000e+00 1.0000000e+00 0.0000000e+00 2.7893020e+04 8.4710870e+04\n",
      "  1.6447081e+05]\n",
      " [1.0000000e+00 0.0000000e+00 0.0000000e+00 2.3641030e+04 9.6189730e+04\n",
      "  1.4800121e+05]\n",
      " [0.0000000e+00 0.0000000e+00 1.0000000e+00 1.5505830e+04 1.2738240e+05\n",
      "  3.5534270e+04]\n",
      " [1.0000000e+00 0.0000000e+00 0.0000000e+00 2.2177840e+04 1.5480624e+05\n",
      "  2.8334820e+04]\n",
      " [0.0000000e+00 0.0000000e+00 1.0000000e+00 1.0003300e+03 1.2415314e+05\n",
      "  1.9040300e+03]\n",
      " [0.0000000e+00 1.0000000e+00 0.0000000e+00 1.3155600e+03 1.1581631e+05\n",
      "  2.9711456e+05]\n",
      " [1.0000000e+00 0.0000000e+00 0.0000000e+00 1.0000000e-01 1.3542702e+05\n",
      "  1.0000000e-01]\n",
      " [0.0000000e+00 0.0000000e+00 1.0000000e+00 5.4215000e+02 5.1743250e+04\n",
      "  1.0000000e-01]\n",
      " [1.0000000e+00 0.0000000e+00 0.0000000e+00 1.0000000e-01 1.1698390e+05\n",
      "  4.5173160e+04]]\n",
      "Input shape:  (50, 6)\n"
     ]
    }
   ],
   "source": [
    "from sklearn.compose import ColumnTransformer\n",
    "from sklearn.preprocessing import OneHotEncoder\n",
    "\n",
    "ct = ColumnTransformer(transformers = [('encoding', OneHotEncoder(), [3])], remainder = \"passthrough\")\n",
    "X = np.array(ct.fit_transform(X))\n",
    "\n",
    "print (\"Input features: \", X)\n",
    "print(\"Input shape: \", X.shape)"
   ]
  },
  {
   "cell_type": "code",
   "execution_count": 45,
   "id": "48d7eebc",
   "metadata": {},
   "outputs": [
    {
     "name": "stdout",
     "output_type": "stream",
     "text": [
      "Shape of the training input data: (45, 6)\n",
      "Shape of the training output data: (45,)\n",
      "Shape of the test input data: (5, 6)\n",
      "Shape of the test output data: (5,)\n"
     ]
    }
   ],
   "source": [
    "from sklearn.model_selection import train_test_split\n",
    "\n",
    "X_Train, X_Test, Y_Train, Y_Test = train_test_split(X,Y,test_size = 0.1, random_state = 0)\n",
    "\n",
    "# Checking the shape of the training and test sets\n",
    "print('Shape of the training input data:', X_Train.shape)\n",
    "print('Shape of the training output data:', Y_Train.shape)\n",
    "print('Shape of the test input data:', X_Test.shape)\n",
    "print('Shape of the test output data:', Y_Test.shape)"
   ]
  },
  {
   "cell_type": "code",
   "execution_count": 46,
   "id": "9a9d5566",
   "metadata": {},
   "outputs": [],
   "source": [
    "# define KNN regressionmodel\n",
    "from sklearn.neighbors import KNeighborsRegressor\n",
    "\n",
    "regressor = KNeighborsRegressor()"
   ]
  },
  {
   "cell_type": "code",
   "execution_count": 47,
   "id": "0d10cd0b",
   "metadata": {},
   "outputs": [
    {
     "name": "stdout",
     "output_type": "stream",
     "text": [
      "{'n_neighbors': 2}\n"
     ]
    }
   ],
   "source": [
    "# Finding the optimal value of K\n",
    "\n",
    "from sklearn.model_selection import GridSearchCV\n",
    "\n",
    "k_range = list(range(1,20))\n",
    "param_grid = dict(n_neighbors = k_range)\n",
    "grid = GridSearchCV(regressor, param_grid, cv=10, scoring='r2', return_train_score=False,verbose=0)\n",
    "grid.fit(X_Train, Y_Train)\n",
    "print(grid.best_params_)"
   ]
  },
  {
   "cell_type": "code",
   "execution_count": 48,
   "id": "1eedc7d8",
   "metadata": {},
   "outputs": [
    {
     "data": {
      "text/html": [
       "<style>#sk-container-id-1 {color: black;}#sk-container-id-1 pre{padding: 0;}#sk-container-id-1 div.sk-toggleable {background-color: white;}#sk-container-id-1 label.sk-toggleable__label {cursor: pointer;display: block;width: 100%;margin-bottom: 0;padding: 0.3em;box-sizing: border-box;text-align: center;}#sk-container-id-1 label.sk-toggleable__label-arrow:before {content: \"▸\";float: left;margin-right: 0.25em;color: #696969;}#sk-container-id-1 label.sk-toggleable__label-arrow:hover:before {color: black;}#sk-container-id-1 div.sk-estimator:hover label.sk-toggleable__label-arrow:before {color: black;}#sk-container-id-1 div.sk-toggleable__content {max-height: 0;max-width: 0;overflow: hidden;text-align: left;background-color: #f0f8ff;}#sk-container-id-1 div.sk-toggleable__content pre {margin: 0.2em;color: black;border-radius: 0.25em;background-color: #f0f8ff;}#sk-container-id-1 input.sk-toggleable__control:checked~div.sk-toggleable__content {max-height: 200px;max-width: 100%;overflow: auto;}#sk-container-id-1 input.sk-toggleable__control:checked~label.sk-toggleable__label-arrow:before {content: \"▾\";}#sk-container-id-1 div.sk-estimator input.sk-toggleable__control:checked~label.sk-toggleable__label {background-color: #d4ebff;}#sk-container-id-1 div.sk-label input.sk-toggleable__control:checked~label.sk-toggleable__label {background-color: #d4ebff;}#sk-container-id-1 input.sk-hidden--visually {border: 0;clip: rect(1px 1px 1px 1px);clip: rect(1px, 1px, 1px, 1px);height: 1px;margin: -1px;overflow: hidden;padding: 0;position: absolute;width: 1px;}#sk-container-id-1 div.sk-estimator {font-family: monospace;background-color: #f0f8ff;border: 1px dotted black;border-radius: 0.25em;box-sizing: border-box;margin-bottom: 0.5em;}#sk-container-id-1 div.sk-estimator:hover {background-color: #d4ebff;}#sk-container-id-1 div.sk-parallel-item::after {content: \"\";width: 100%;border-bottom: 1px solid gray;flex-grow: 1;}#sk-container-id-1 div.sk-label:hover label.sk-toggleable__label {background-color: #d4ebff;}#sk-container-id-1 div.sk-serial::before {content: \"\";position: absolute;border-left: 1px solid gray;box-sizing: border-box;top: 0;bottom: 0;left: 50%;z-index: 0;}#sk-container-id-1 div.sk-serial {display: flex;flex-direction: column;align-items: center;background-color: white;padding-right: 0.2em;padding-left: 0.2em;position: relative;}#sk-container-id-1 div.sk-item {position: relative;z-index: 1;}#sk-container-id-1 div.sk-parallel {display: flex;align-items: stretch;justify-content: center;background-color: white;position: relative;}#sk-container-id-1 div.sk-item::before, #sk-container-id-1 div.sk-parallel-item::before {content: \"\";position: absolute;border-left: 1px solid gray;box-sizing: border-box;top: 0;bottom: 0;left: 50%;z-index: -1;}#sk-container-id-1 div.sk-parallel-item {display: flex;flex-direction: column;z-index: 1;position: relative;background-color: white;}#sk-container-id-1 div.sk-parallel-item:first-child::after {align-self: flex-end;width: 50%;}#sk-container-id-1 div.sk-parallel-item:last-child::after {align-self: flex-start;width: 50%;}#sk-container-id-1 div.sk-parallel-item:only-child::after {width: 0;}#sk-container-id-1 div.sk-dashed-wrapped {border: 1px dashed gray;margin: 0 0.4em 0.5em 0.4em;box-sizing: border-box;padding-bottom: 0.4em;background-color: white;}#sk-container-id-1 div.sk-label label {font-family: monospace;font-weight: bold;display: inline-block;line-height: 1.2em;}#sk-container-id-1 div.sk-label-container {text-align: center;}#sk-container-id-1 div.sk-container {/* jupyter's `normalize.less` sets `[hidden] { display: none; }` but bootstrap.min.css set `[hidden] { display: none !important; }` so we also need the `!important` here to be able to override the default hidden behavior on the sphinx rendered scikit-learn.org. See: https://github.com/scikit-learn/scikit-learn/issues/21755 */display: inline-block !important;position: relative;}#sk-container-id-1 div.sk-text-repr-fallback {display: none;}</style><div id=\"sk-container-id-1\" class=\"sk-top-container\"><div class=\"sk-text-repr-fallback\"><pre>KNeighborsRegressor(n_neighbors=2)</pre><b>In a Jupyter environment, please rerun this cell to show the HTML representation or trust the notebook. <br />On GitHub, the HTML representation is unable to render, please try loading this page with nbviewer.org.</b></div><div class=\"sk-container\" hidden><div class=\"sk-item\"><div class=\"sk-estimator sk-toggleable\"><input class=\"sk-toggleable__control sk-hidden--visually\" id=\"sk-estimator-id-1\" type=\"checkbox\" checked><label for=\"sk-estimator-id-1\" class=\"sk-toggleable__label sk-toggleable__label-arrow\">KNeighborsRegressor</label><div class=\"sk-toggleable__content\"><pre>KNeighborsRegressor(n_neighbors=2)</pre></div></div></div></div></div>"
      ],
      "text/plain": [
       "KNeighborsRegressor(n_neighbors=2)"
      ]
     },
     "execution_count": 48,
     "metadata": {},
     "output_type": "execute_result"
    }
   ],
   "source": [
    "# Defining the KNN regressor with optimal value of K\n",
    "regressor = KNeighborsRegressor(n_neighbors=2)\n",
    "regressor.fit(X_Train, Y_Train)"
   ]
  },
  {
   "cell_type": "code",
   "execution_count": 49,
   "id": "7381c6a6",
   "metadata": {},
   "outputs": [],
   "source": [
    "# Making predictions on the test data\n",
    "y_pred = regressor.predict(X_Test)"
   ]
  },
  {
   "cell_type": "code",
   "execution_count": 50,
   "id": "7a6f46f7",
   "metadata": {},
   "outputs": [
    {
     "data": {
      "text/html": [
       "<div>\n",
       "<style scoped>\n",
       "    .dataframe tbody tr th:only-of-type {\n",
       "        vertical-align: middle;\n",
       "    }\n",
       "\n",
       "    .dataframe tbody tr th {\n",
       "        vertical-align: top;\n",
       "    }\n",
       "\n",
       "    .dataframe thead th {\n",
       "        text-align: right;\n",
       "    }\n",
       "</style>\n",
       "<table border=\"1\" class=\"dataframe\">\n",
       "  <thead>\n",
       "    <tr style=\"text-align: right;\">\n",
       "      <th></th>\n",
       "      <th>Predicted Profit</th>\n",
       "      <th>Actual Profit</th>\n",
       "    </tr>\n",
       "  </thead>\n",
       "  <tbody>\n",
       "    <tr>\n",
       "      <th>0</th>\n",
       "      <td>99244.200</td>\n",
       "      <td>103282.48</td>\n",
       "    </tr>\n",
       "    <tr>\n",
       "      <th>1</th>\n",
       "      <td>135751.380</td>\n",
       "      <td>144259.50</td>\n",
       "    </tr>\n",
       "    <tr>\n",
       "      <th>2</th>\n",
       "      <td>137946.535</td>\n",
       "      <td>146122.05</td>\n",
       "    </tr>\n",
       "    <tr>\n",
       "      <th>3</th>\n",
       "      <td>76252.225</td>\n",
       "      <td>77798.93</td>\n",
       "    </tr>\n",
       "    <tr>\n",
       "      <th>4</th>\n",
       "      <td>174545.065</td>\n",
       "      <td>191050.49</td>\n",
       "    </tr>\n",
       "  </tbody>\n",
       "</table>\n",
       "</div>"
      ],
      "text/plain": [
       "   Predicted Profit  Actual Profit\n",
       "0         99244.200      103282.48\n",
       "1        135751.380      144259.50\n",
       "2        137946.535      146122.05\n",
       "3         76252.225       77798.93\n",
       "4        174545.065      191050.49"
      ]
     },
     "execution_count": 50,
     "metadata": {},
     "output_type": "execute_result"
    }
   ],
   "source": [
    "# Comparing the predicted profits with actual profits\n",
    "pd.DataFrame(data={'Predicted Profit': y_pred, 'Actual Profit': Y_Test})"
   ]
  },
  {
   "cell_type": "code",
   "execution_count": 53,
   "id": "57351aa0",
   "metadata": {},
   "outputs": [
    {
     "name": "stdout",
     "output_type": "stream",
     "text": [
      "Mean Squared Error is: 86071241.51913492\n"
     ]
    }
   ],
   "source": [
    "# Mean Squared Error (MSE)\n",
    "from sklearn.metrics import mean_squared_error\n",
    "MSE=mean_squared_error(Y_Test, y_pred)\n",
    "print('Mean Squared Error is:', MSE)"
   ]
  },
  {
   "cell_type": "code",
   "execution_count": 54,
   "id": "b17eab60",
   "metadata": {},
   "outputs": [
    {
     "name": "stdout",
     "output_type": "stream",
     "text": [
      "Root Mean Squared Error is: 9277.458785633862\n"
     ]
    }
   ],
   "source": [
    "# Root Mean Squared Error (RMSE)\n",
    "import math\n",
    "RMSE = math.sqrt(MSE)\n",
    "print('Root Mean Squared Error is:', RMSE)"
   ]
  },
  {
   "cell_type": "code",
   "execution_count": 55,
   "id": "a8e8a4f9",
   "metadata": {},
   "outputs": [
    {
     "name": "stdout",
     "output_type": "stream",
     "text": [
      "R-Squared is: 0.943358356817591\n"
     ]
    }
   ],
   "source": [
    "# R-Squared\n",
    "from sklearn.metrics import r2_score\n",
    "r2 = r2_score(Y_Test, y_pred)\n",
    "print('R-Squared is:', r2)"
   ]
  },
  {
   "cell_type": "code",
   "execution_count": null,
   "id": "521dd5a8",
   "metadata": {},
   "outputs": [],
   "source": []
  }
 ],
 "metadata": {
  "kernelspec": {
   "display_name": "Python 3 (ipykernel)",
   "language": "python",
   "name": "python3"
  },
  "language_info": {
   "codemirror_mode": {
    "name": "ipython",
    "version": 3
   },
   "file_extension": ".py",
   "mimetype": "text/x-python",
   "name": "python",
   "nbconvert_exporter": "python",
   "pygments_lexer": "ipython3",
   "version": "3.11.4"
  }
 },
 "nbformat": 4,
 "nbformat_minor": 5
}
