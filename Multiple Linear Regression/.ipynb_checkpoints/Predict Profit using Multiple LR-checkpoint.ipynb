{
 "cells": [
  {
   "cell_type": "code",
   "execution_count": 3,
   "id": "3ac857b7",
   "metadata": {},
   "outputs": [],
   "source": [
    "import numpy as np\n",
    "import pandas as pd"
   ]
  },
  {
   "cell_type": "code",
   "execution_count": 4,
   "id": "ffe2cfeb",
   "metadata": {},
   "outputs": [
    {
     "data": {
      "text/html": [
       "<div>\n",
       "<style scoped>\n",
       "    .dataframe tbody tr th:only-of-type {\n",
       "        vertical-align: middle;\n",
       "    }\n",
       "\n",
       "    .dataframe tbody tr th {\n",
       "        vertical-align: top;\n",
       "    }\n",
       "\n",
       "    .dataframe thead th {\n",
       "        text-align: right;\n",
       "    }\n",
       "</style>\n",
       "<table border=\"1\" class=\"dataframe\">\n",
       "  <thead>\n",
       "    <tr style=\"text-align: right;\">\n",
       "      <th></th>\n",
       "      <th>Unnamed: 0</th>\n",
       "      <th>R&amp;D Spend</th>\n",
       "      <th>Administration</th>\n",
       "      <th>Marketing Spend</th>\n",
       "      <th>State</th>\n",
       "      <th>Profit</th>\n",
       "    </tr>\n",
       "  </thead>\n",
       "  <tbody>\n",
       "    <tr>\n",
       "      <th>0</th>\n",
       "      <td>0</td>\n",
       "      <td>165349.30</td>\n",
       "      <td>136897.90</td>\n",
       "      <td>471784.20</td>\n",
       "      <td>New York</td>\n",
       "      <td>192261.93</td>\n",
       "    </tr>\n",
       "    <tr>\n",
       "      <th>1</th>\n",
       "      <td>1</td>\n",
       "      <td>162597.80</td>\n",
       "      <td>151377.69</td>\n",
       "      <td>443898.63</td>\n",
       "      <td>California</td>\n",
       "      <td>191792.16</td>\n",
       "    </tr>\n",
       "    <tr>\n",
       "      <th>2</th>\n",
       "      <td>2</td>\n",
       "      <td>153441.61</td>\n",
       "      <td>101145.65</td>\n",
       "      <td>407934.64</td>\n",
       "      <td>Florida</td>\n",
       "      <td>191050.49</td>\n",
       "    </tr>\n",
       "    <tr>\n",
       "      <th>3</th>\n",
       "      <td>3</td>\n",
       "      <td>144372.51</td>\n",
       "      <td>118671.95</td>\n",
       "      <td>383199.72</td>\n",
       "      <td>New York</td>\n",
       "      <td>182902.09</td>\n",
       "    </tr>\n",
       "    <tr>\n",
       "      <th>4</th>\n",
       "      <td>4</td>\n",
       "      <td>142107.44</td>\n",
       "      <td>91391.87</td>\n",
       "      <td>366168.52</td>\n",
       "      <td>Florida</td>\n",
       "      <td>166188.04</td>\n",
       "    </tr>\n",
       "    <tr>\n",
       "      <th>5</th>\n",
       "      <td>5</td>\n",
       "      <td>131877.00</td>\n",
       "      <td>99814.81</td>\n",
       "      <td>362861.46</td>\n",
       "      <td>New York</td>\n",
       "      <td>156991.22</td>\n",
       "    </tr>\n",
       "    <tr>\n",
       "      <th>6</th>\n",
       "      <td>6</td>\n",
       "      <td>134615.56</td>\n",
       "      <td>147198.97</td>\n",
       "      <td>127716.92</td>\n",
       "      <td>California</td>\n",
       "      <td>156122.61</td>\n",
       "    </tr>\n",
       "    <tr>\n",
       "      <th>7</th>\n",
       "      <td>7</td>\n",
       "      <td>130298.23</td>\n",
       "      <td>145530.16</td>\n",
       "      <td>323876.78</td>\n",
       "      <td>Florida</td>\n",
       "      <td>155752.70</td>\n",
       "    </tr>\n",
       "    <tr>\n",
       "      <th>8</th>\n",
       "      <td>8</td>\n",
       "      <td>120542.62</td>\n",
       "      <td>148719.05</td>\n",
       "      <td>311613.39</td>\n",
       "      <td>New York</td>\n",
       "      <td>152211.87</td>\n",
       "    </tr>\n",
       "    <tr>\n",
       "      <th>9</th>\n",
       "      <td>9</td>\n",
       "      <td>123334.98</td>\n",
       "      <td>108679.27</td>\n",
       "      <td>304981.72</td>\n",
       "      <td>California</td>\n",
       "      <td>149760.06</td>\n",
       "    </tr>\n",
       "  </tbody>\n",
       "</table>\n",
       "</div>"
      ],
      "text/plain": [
       "   Unnamed: 0  R&D Spend  Administration  Marketing Spend       State  \\\n",
       "0           0  165349.30       136897.90        471784.20    New York   \n",
       "1           1  162597.80       151377.69        443898.63  California   \n",
       "2           2  153441.61       101145.65        407934.64     Florida   \n",
       "3           3  144372.51       118671.95        383199.72    New York   \n",
       "4           4  142107.44        91391.87        366168.52     Florida   \n",
       "5           5  131877.00        99814.81        362861.46    New York   \n",
       "6           6  134615.56       147198.97        127716.92  California   \n",
       "7           7  130298.23       145530.16        323876.78     Florida   \n",
       "8           8  120542.62       148719.05        311613.39    New York   \n",
       "9           9  123334.98       108679.27        304981.72  California   \n",
       "\n",
       "      Profit  \n",
       "0  192261.93  \n",
       "1  191792.16  \n",
       "2  191050.49  \n",
       "3  182902.09  \n",
       "4  166188.04  \n",
       "5  156991.22  \n",
       "6  156122.61  \n",
       "7  155752.70  \n",
       "8  152211.87  \n",
       "9  149760.06  "
      ]
     },
     "execution_count": 4,
     "metadata": {},
     "output_type": "execute_result"
    }
   ],
   "source": [
    "dataset = pd.read_csv(r\"C:\\Users\\mahee\\Downloads\\Multiple Linear Regression\\50_Startups_dataset.csv\")\n",
    "dataset.head(10)"
   ]
  },
  {
   "cell_type": "code",
   "execution_count": 5,
   "id": "e0f522f7",
   "metadata": {},
   "outputs": [
    {
     "data": {
      "text/html": [
       "<div>\n",
       "<style scoped>\n",
       "    .dataframe tbody tr th:only-of-type {\n",
       "        vertical-align: middle;\n",
       "    }\n",
       "\n",
       "    .dataframe tbody tr th {\n",
       "        vertical-align: top;\n",
       "    }\n",
       "\n",
       "    .dataframe thead th {\n",
       "        text-align: right;\n",
       "    }\n",
       "</style>\n",
       "<table border=\"1\" class=\"dataframe\">\n",
       "  <thead>\n",
       "    <tr style=\"text-align: right;\">\n",
       "      <th></th>\n",
       "      <th>R&amp;D Spend</th>\n",
       "      <th>Administration</th>\n",
       "      <th>Marketing Spend</th>\n",
       "      <th>State</th>\n",
       "      <th>Profit</th>\n",
       "    </tr>\n",
       "  </thead>\n",
       "  <tbody>\n",
       "    <tr>\n",
       "      <th>0</th>\n",
       "      <td>165349.30</td>\n",
       "      <td>136897.90</td>\n",
       "      <td>471784.20</td>\n",
       "      <td>New York</td>\n",
       "      <td>192261.93</td>\n",
       "    </tr>\n",
       "    <tr>\n",
       "      <th>1</th>\n",
       "      <td>162597.80</td>\n",
       "      <td>151377.69</td>\n",
       "      <td>443898.63</td>\n",
       "      <td>California</td>\n",
       "      <td>191792.16</td>\n",
       "    </tr>\n",
       "    <tr>\n",
       "      <th>2</th>\n",
       "      <td>153441.61</td>\n",
       "      <td>101145.65</td>\n",
       "      <td>407934.64</td>\n",
       "      <td>Florida</td>\n",
       "      <td>191050.49</td>\n",
       "    </tr>\n",
       "    <tr>\n",
       "      <th>3</th>\n",
       "      <td>144372.51</td>\n",
       "      <td>118671.95</td>\n",
       "      <td>383199.72</td>\n",
       "      <td>New York</td>\n",
       "      <td>182902.09</td>\n",
       "    </tr>\n",
       "    <tr>\n",
       "      <th>4</th>\n",
       "      <td>142107.44</td>\n",
       "      <td>91391.87</td>\n",
       "      <td>366168.52</td>\n",
       "      <td>Florida</td>\n",
       "      <td>166188.04</td>\n",
       "    </tr>\n",
       "    <tr>\n",
       "      <th>5</th>\n",
       "      <td>131877.00</td>\n",
       "      <td>99814.81</td>\n",
       "      <td>362861.46</td>\n",
       "      <td>New York</td>\n",
       "      <td>156991.22</td>\n",
       "    </tr>\n",
       "    <tr>\n",
       "      <th>6</th>\n",
       "      <td>134615.56</td>\n",
       "      <td>147198.97</td>\n",
       "      <td>127716.92</td>\n",
       "      <td>California</td>\n",
       "      <td>156122.61</td>\n",
       "    </tr>\n",
       "    <tr>\n",
       "      <th>7</th>\n",
       "      <td>130298.23</td>\n",
       "      <td>145530.16</td>\n",
       "      <td>323876.78</td>\n",
       "      <td>Florida</td>\n",
       "      <td>155752.70</td>\n",
       "    </tr>\n",
       "    <tr>\n",
       "      <th>8</th>\n",
       "      <td>120542.62</td>\n",
       "      <td>148719.05</td>\n",
       "      <td>311613.39</td>\n",
       "      <td>New York</td>\n",
       "      <td>152211.87</td>\n",
       "    </tr>\n",
       "    <tr>\n",
       "      <th>9</th>\n",
       "      <td>123334.98</td>\n",
       "      <td>108679.27</td>\n",
       "      <td>304981.72</td>\n",
       "      <td>California</td>\n",
       "      <td>149760.06</td>\n",
       "    </tr>\n",
       "  </tbody>\n",
       "</table>\n",
       "</div>"
      ],
      "text/plain": [
       "   R&D Spend  Administration  Marketing Spend       State     Profit\n",
       "0  165349.30       136897.90        471784.20    New York  192261.93\n",
       "1  162597.80       151377.69        443898.63  California  191792.16\n",
       "2  153441.61       101145.65        407934.64     Florida  191050.49\n",
       "3  144372.51       118671.95        383199.72    New York  182902.09\n",
       "4  142107.44        91391.87        366168.52     Florida  166188.04\n",
       "5  131877.00        99814.81        362861.46    New York  156991.22\n",
       "6  134615.56       147198.97        127716.92  California  156122.61\n",
       "7  130298.23       145530.16        323876.78     Florida  155752.70\n",
       "8  120542.62       148719.05        311613.39    New York  152211.87\n",
       "9  123334.98       108679.27        304981.72  California  149760.06"
      ]
     },
     "execution_count": 5,
     "metadata": {},
     "output_type": "execute_result"
    }
   ],
   "source": [
    "dataset.drop(\"Unnamed: 0\", axis = 1, inplace = True)\n",
    "dataset.head(10)"
   ]
  },
  {
   "cell_type": "code",
   "execution_count": 6,
   "id": "b86941b8",
   "metadata": {},
   "outputs": [
    {
     "data": {
      "text/plain": [
       "(50, 5)"
      ]
     },
     "execution_count": 6,
     "metadata": {},
     "output_type": "execute_result"
    }
   ],
   "source": [
    "dataset.shape"
   ]
  },
  {
   "cell_type": "code",
   "execution_count": 7,
   "id": "73107403",
   "metadata": {},
   "outputs": [
    {
     "name": "stdout",
     "output_type": "stream",
     "text": [
      "<class 'pandas.core.frame.DataFrame'>\n",
      "RangeIndex: 50 entries, 0 to 49\n",
      "Data columns (total 5 columns):\n",
      " #   Column           Non-Null Count  Dtype  \n",
      "---  ------           --------------  -----  \n",
      " 0   R&D Spend        50 non-null     float64\n",
      " 1   Administration   50 non-null     float64\n",
      " 2   Marketing Spend  50 non-null     float64\n",
      " 3   State            50 non-null     object \n",
      " 4   Profit           50 non-null     float64\n",
      "dtypes: float64(4), object(1)\n",
      "memory usage: 2.1+ KB\n"
     ]
    }
   ],
   "source": [
    "dataset.info()"
   ]
  },
  {
   "cell_type": "code",
   "execution_count": 8,
   "id": "dfed674b",
   "metadata": {},
   "outputs": [],
   "source": [
    "# define input features(X) and output feature(Y)\n",
    "X = dataset.iloc[:,:-1]\n",
    "Y = dataset.iloc[:,-1].values"
   ]
  },
  {
   "cell_type": "code",
   "execution_count": 9,
   "id": "1289a7ad",
   "metadata": {},
   "outputs": [
    {
     "name": "stdout",
     "output_type": "stream",
     "text": [
      "Shape of X:  (50, 4)\n",
      "Shape of Y:  (50,)\n"
     ]
    }
   ],
   "source": [
    "print(\"Shape of X: \", X.shape)\n",
    "print(\"Shape of Y: \", Y.shape)"
   ]
  },
  {
   "cell_type": "code",
   "execution_count": 10,
   "id": "7303838d",
   "metadata": {},
   "outputs": [
    {
     "name": "stdout",
     "output_type": "stream",
     "text": [
      "    R&D Spend  Administration  Marketing Spend       State\n",
      "0   165349.30       136897.90        471784.20    New York\n",
      "1   162597.80       151377.69        443898.63  California\n",
      "2   153441.61       101145.65        407934.64     Florida\n",
      "3   144372.51       118671.95        383199.72    New York\n",
      "4   142107.44        91391.87        366168.52     Florida\n",
      "5   131877.00        99814.81        362861.46    New York\n",
      "6   134615.56       147198.97        127716.92  California\n",
      "7   130298.23       145530.16        323876.78     Florida\n",
      "8   120542.62       148719.05        311613.39    New York\n",
      "9   123334.98       108679.27        304981.72  California\n",
      "10  101913.18       110594.21        229161.05     Florida\n",
      "11  100672.06        91790.71        249744.65  California\n",
      "12   93863.85       127320.48        249839.54     Florida\n",
      "13   91992.49       135495.17        252665.03  California\n",
      "14  119943.34       156547.52        256513.02     Florida\n",
      "15  114523.71       122616.94        261776.33    New York\n",
      "16   78013.21       121597.65        264346.16  California\n",
      "17   94657.26       145077.68        282574.41    New York\n",
      "18   91749.26       114175.89        294919.67     Florida\n",
      "19   86419.80       153514.21             0.10    New York\n",
      "20   76253.96       113867.40        298664.57  California\n",
      "21   78389.57       153773.53        299737.39    New York\n",
      "22   73994.66       122782.85        303319.36     Florida\n",
      "23   67532.63       105751.13        304768.83     Florida\n",
      "24   77044.11        99281.44        140574.91    New York\n",
      "25   64664.81       139553.26        137962.72  California\n",
      "26   75328.97       144136.08        134050.17     Florida\n",
      "27   72107.70       127864.65        353183.91    New York\n",
      "28   66051.62       182645.66        118148.30     Florida\n",
      "29   65605.58       153032.16        107138.48    New York\n",
      "30   61994.58       115641.38         91131.34     Florida\n",
      "31   61136.48       152702.02         88218.33    New York\n",
      "32   63408.96       129219.71         46085.35  California\n",
      "33   55494.05       103057.59        214634.91     Florida\n",
      "34   46426.17       157694.02        210797.77  California\n",
      "35   46014.12        85047.54        205517.74    New York\n",
      "36   28663.86       127056.31        201126.92     Florida\n",
      "37   44070.05        51283.24        197029.52  California\n",
      "38   20229.69        65948.03        185265.20    New York\n",
      "39   38558.61        82982.19        174999.40  California\n",
      "40   28754.43       118546.15        172795.77  California\n",
      "41   27893.02        84710.87        164470.81     Florida\n",
      "42   23641.03        96189.73        148001.21  California\n",
      "43   15505.83       127382.40         35534.27    New York\n",
      "44   22177.84       154806.24         28334.82  California\n",
      "45    1000.33       124153.14          1904.03    New York\n",
      "46    1315.56       115816.31        297114.56     Florida\n",
      "47       0.10       135427.02             0.10  California\n",
      "48     542.15        51743.25             0.10    New York\n",
      "49       0.10       116983.90         45173.16  California\n",
      "Unique cities:  ['New York' 'California' 'Florida']\n"
     ]
    }
   ],
   "source": [
    "print(X) # data is categorized in cities\n",
    "print(\"Unique cities: \", X[\"State\"].unique())"
   ]
  },
  {
   "cell_type": "code",
   "execution_count": 11,
   "id": "8165fb96",
   "metadata": {},
   "outputs": [],
   "source": [
    "#As there are categorical values present in the city column of the dataset, \n",
    "#we need to perform categorical encoding. For this purpose,\n",
    "#the one-hot encoding method is suitable as the categories here are nominal."
   ]
  },
  {
   "cell_type": "code",
   "execution_count": 12,
   "id": "ec9fb0a9",
   "metadata": {},
   "outputs": [
    {
     "name": "stdout",
     "output_type": "stream",
     "text": [
      "Input features:  [[0.0000000e+00 0.0000000e+00 1.0000000e+00 1.6534930e+05 1.3689790e+05\n",
      "  4.7178420e+05]\n",
      " [1.0000000e+00 0.0000000e+00 0.0000000e+00 1.6259780e+05 1.5137769e+05\n",
      "  4.4389863e+05]\n",
      " [0.0000000e+00 1.0000000e+00 0.0000000e+00 1.5344161e+05 1.0114565e+05\n",
      "  4.0793464e+05]\n",
      " [0.0000000e+00 0.0000000e+00 1.0000000e+00 1.4437251e+05 1.1867195e+05\n",
      "  3.8319972e+05]\n",
      " [0.0000000e+00 1.0000000e+00 0.0000000e+00 1.4210744e+05 9.1391870e+04\n",
      "  3.6616852e+05]\n",
      " [0.0000000e+00 0.0000000e+00 1.0000000e+00 1.3187700e+05 9.9814810e+04\n",
      "  3.6286146e+05]\n",
      " [1.0000000e+00 0.0000000e+00 0.0000000e+00 1.3461556e+05 1.4719897e+05\n",
      "  1.2771692e+05]\n",
      " [0.0000000e+00 1.0000000e+00 0.0000000e+00 1.3029823e+05 1.4553016e+05\n",
      "  3.2387678e+05]\n",
      " [0.0000000e+00 0.0000000e+00 1.0000000e+00 1.2054262e+05 1.4871905e+05\n",
      "  3.1161339e+05]\n",
      " [1.0000000e+00 0.0000000e+00 0.0000000e+00 1.2333498e+05 1.0867927e+05\n",
      "  3.0498172e+05]\n",
      " [0.0000000e+00 1.0000000e+00 0.0000000e+00 1.0191318e+05 1.1059421e+05\n",
      "  2.2916105e+05]\n",
      " [1.0000000e+00 0.0000000e+00 0.0000000e+00 1.0067206e+05 9.1790710e+04\n",
      "  2.4974465e+05]\n",
      " [0.0000000e+00 1.0000000e+00 0.0000000e+00 9.3863850e+04 1.2732048e+05\n",
      "  2.4983954e+05]\n",
      " [1.0000000e+00 0.0000000e+00 0.0000000e+00 9.1992490e+04 1.3549517e+05\n",
      "  2.5266503e+05]\n",
      " [0.0000000e+00 1.0000000e+00 0.0000000e+00 1.1994334e+05 1.5654752e+05\n",
      "  2.5651302e+05]\n",
      " [0.0000000e+00 0.0000000e+00 1.0000000e+00 1.1452371e+05 1.2261694e+05\n",
      "  2.6177633e+05]\n",
      " [1.0000000e+00 0.0000000e+00 0.0000000e+00 7.8013210e+04 1.2159765e+05\n",
      "  2.6434616e+05]\n",
      " [0.0000000e+00 0.0000000e+00 1.0000000e+00 9.4657260e+04 1.4507768e+05\n",
      "  2.8257441e+05]\n",
      " [0.0000000e+00 1.0000000e+00 0.0000000e+00 9.1749260e+04 1.1417589e+05\n",
      "  2.9491967e+05]\n",
      " [0.0000000e+00 0.0000000e+00 1.0000000e+00 8.6419800e+04 1.5351421e+05\n",
      "  1.0000000e-01]\n",
      " [1.0000000e+00 0.0000000e+00 0.0000000e+00 7.6253960e+04 1.1386740e+05\n",
      "  2.9866457e+05]\n",
      " [0.0000000e+00 0.0000000e+00 1.0000000e+00 7.8389570e+04 1.5377353e+05\n",
      "  2.9973739e+05]\n",
      " [0.0000000e+00 1.0000000e+00 0.0000000e+00 7.3994660e+04 1.2278285e+05\n",
      "  3.0331936e+05]\n",
      " [0.0000000e+00 1.0000000e+00 0.0000000e+00 6.7532630e+04 1.0575113e+05\n",
      "  3.0476883e+05]\n",
      " [0.0000000e+00 0.0000000e+00 1.0000000e+00 7.7044110e+04 9.9281440e+04\n",
      "  1.4057491e+05]\n",
      " [1.0000000e+00 0.0000000e+00 0.0000000e+00 6.4664810e+04 1.3955326e+05\n",
      "  1.3796272e+05]\n",
      " [0.0000000e+00 1.0000000e+00 0.0000000e+00 7.5328970e+04 1.4413608e+05\n",
      "  1.3405017e+05]\n",
      " [0.0000000e+00 0.0000000e+00 1.0000000e+00 7.2107700e+04 1.2786465e+05\n",
      "  3.5318391e+05]\n",
      " [0.0000000e+00 1.0000000e+00 0.0000000e+00 6.6051620e+04 1.8264566e+05\n",
      "  1.1814830e+05]\n",
      " [0.0000000e+00 0.0000000e+00 1.0000000e+00 6.5605580e+04 1.5303216e+05\n",
      "  1.0713848e+05]\n",
      " [0.0000000e+00 1.0000000e+00 0.0000000e+00 6.1994580e+04 1.1564138e+05\n",
      "  9.1131340e+04]\n",
      " [0.0000000e+00 0.0000000e+00 1.0000000e+00 6.1136480e+04 1.5270202e+05\n",
      "  8.8218330e+04]\n",
      " [1.0000000e+00 0.0000000e+00 0.0000000e+00 6.3408960e+04 1.2921971e+05\n",
      "  4.6085350e+04]\n",
      " [0.0000000e+00 1.0000000e+00 0.0000000e+00 5.5494050e+04 1.0305759e+05\n",
      "  2.1463491e+05]\n",
      " [1.0000000e+00 0.0000000e+00 0.0000000e+00 4.6426170e+04 1.5769402e+05\n",
      "  2.1079777e+05]\n",
      " [0.0000000e+00 0.0000000e+00 1.0000000e+00 4.6014120e+04 8.5047540e+04\n",
      "  2.0551774e+05]\n",
      " [0.0000000e+00 1.0000000e+00 0.0000000e+00 2.8663860e+04 1.2705631e+05\n",
      "  2.0112692e+05]\n",
      " [1.0000000e+00 0.0000000e+00 0.0000000e+00 4.4070050e+04 5.1283240e+04\n",
      "  1.9702952e+05]\n",
      " [0.0000000e+00 0.0000000e+00 1.0000000e+00 2.0229690e+04 6.5948030e+04\n",
      "  1.8526520e+05]\n",
      " [1.0000000e+00 0.0000000e+00 0.0000000e+00 3.8558610e+04 8.2982190e+04\n",
      "  1.7499940e+05]\n",
      " [1.0000000e+00 0.0000000e+00 0.0000000e+00 2.8754430e+04 1.1854615e+05\n",
      "  1.7279577e+05]\n",
      " [0.0000000e+00 1.0000000e+00 0.0000000e+00 2.7893020e+04 8.4710870e+04\n",
      "  1.6447081e+05]\n",
      " [1.0000000e+00 0.0000000e+00 0.0000000e+00 2.3641030e+04 9.6189730e+04\n",
      "  1.4800121e+05]\n",
      " [0.0000000e+00 0.0000000e+00 1.0000000e+00 1.5505830e+04 1.2738240e+05\n",
      "  3.5534270e+04]\n",
      " [1.0000000e+00 0.0000000e+00 0.0000000e+00 2.2177840e+04 1.5480624e+05\n",
      "  2.8334820e+04]\n",
      " [0.0000000e+00 0.0000000e+00 1.0000000e+00 1.0003300e+03 1.2415314e+05\n",
      "  1.9040300e+03]\n",
      " [0.0000000e+00 1.0000000e+00 0.0000000e+00 1.3155600e+03 1.1581631e+05\n",
      "  2.9711456e+05]\n",
      " [1.0000000e+00 0.0000000e+00 0.0000000e+00 1.0000000e-01 1.3542702e+05\n",
      "  1.0000000e-01]\n",
      " [0.0000000e+00 0.0000000e+00 1.0000000e+00 5.4215000e+02 5.1743250e+04\n",
      "  1.0000000e-01]\n",
      " [1.0000000e+00 0.0000000e+00 0.0000000e+00 1.0000000e-01 1.1698390e+05\n",
      "  4.5173160e+04]]\n",
      "Input shape:  (50, 6)\n"
     ]
    }
   ],
   "source": [
    "#one hot encoding of the city column\n",
    "from sklearn.compose import ColumnTransformer\n",
    "from sklearn.preprocessing import OneHotEncoder\n",
    "\n",
    "ct = ColumnTransformer(transformers = [('encoder', OneHotEncoder(), [3])], remainder = \"passthrough\")\n",
    "X = np.array(ct.fit_transform(X))\n",
    "print (\"Input features: \", X)\n",
    "print(\"Input shape: \", X.shape)"
   ]
  },
  {
   "cell_type": "code",
   "execution_count": 13,
   "id": "3cbf3d69",
   "metadata": {},
   "outputs": [
    {
     "name": "stdout",
     "output_type": "stream",
     "text": [
      "Shape of the training patterns: (33, 6) (33,)\n",
      "Shape of the test patterns: (17, 6) (17,)\n"
     ]
    }
   ],
   "source": [
    "from sklearn.model_selection import train_test_split\n",
    "\n",
    "X_train, X_test, Y_train, Y_test = train_test_split(X,Y, test_size = 1/3, random_state = 0)\n",
    "\n",
    "# Checking the shape of the training and test sets\n",
    "print('Shape of the training patterns:', X_train.shape, Y_train.shape)\n",
    "print('Shape of the test patterns:', X_test.shape, Y_test.shape)"
   ]
  },
  {
   "cell_type": "code",
   "execution_count": 14,
   "id": "3d883c09",
   "metadata": {},
   "outputs": [
    {
     "data": {
      "text/html": [
       "<style>#sk-container-id-1 {color: black;}#sk-container-id-1 pre{padding: 0;}#sk-container-id-1 div.sk-toggleable {background-color: white;}#sk-container-id-1 label.sk-toggleable__label {cursor: pointer;display: block;width: 100%;margin-bottom: 0;padding: 0.3em;box-sizing: border-box;text-align: center;}#sk-container-id-1 label.sk-toggleable__label-arrow:before {content: \"▸\";float: left;margin-right: 0.25em;color: #696969;}#sk-container-id-1 label.sk-toggleable__label-arrow:hover:before {color: black;}#sk-container-id-1 div.sk-estimator:hover label.sk-toggleable__label-arrow:before {color: black;}#sk-container-id-1 div.sk-toggleable__content {max-height: 0;max-width: 0;overflow: hidden;text-align: left;background-color: #f0f8ff;}#sk-container-id-1 div.sk-toggleable__content pre {margin: 0.2em;color: black;border-radius: 0.25em;background-color: #f0f8ff;}#sk-container-id-1 input.sk-toggleable__control:checked~div.sk-toggleable__content {max-height: 200px;max-width: 100%;overflow: auto;}#sk-container-id-1 input.sk-toggleable__control:checked~label.sk-toggleable__label-arrow:before {content: \"▾\";}#sk-container-id-1 div.sk-estimator input.sk-toggleable__control:checked~label.sk-toggleable__label {background-color: #d4ebff;}#sk-container-id-1 div.sk-label input.sk-toggleable__control:checked~label.sk-toggleable__label {background-color: #d4ebff;}#sk-container-id-1 input.sk-hidden--visually {border: 0;clip: rect(1px 1px 1px 1px);clip: rect(1px, 1px, 1px, 1px);height: 1px;margin: -1px;overflow: hidden;padding: 0;position: absolute;width: 1px;}#sk-container-id-1 div.sk-estimator {font-family: monospace;background-color: #f0f8ff;border: 1px dotted black;border-radius: 0.25em;box-sizing: border-box;margin-bottom: 0.5em;}#sk-container-id-1 div.sk-estimator:hover {background-color: #d4ebff;}#sk-container-id-1 div.sk-parallel-item::after {content: \"\";width: 100%;border-bottom: 1px solid gray;flex-grow: 1;}#sk-container-id-1 div.sk-label:hover label.sk-toggleable__label {background-color: #d4ebff;}#sk-container-id-1 div.sk-serial::before {content: \"\";position: absolute;border-left: 1px solid gray;box-sizing: border-box;top: 0;bottom: 0;left: 50%;z-index: 0;}#sk-container-id-1 div.sk-serial {display: flex;flex-direction: column;align-items: center;background-color: white;padding-right: 0.2em;padding-left: 0.2em;position: relative;}#sk-container-id-1 div.sk-item {position: relative;z-index: 1;}#sk-container-id-1 div.sk-parallel {display: flex;align-items: stretch;justify-content: center;background-color: white;position: relative;}#sk-container-id-1 div.sk-item::before, #sk-container-id-1 div.sk-parallel-item::before {content: \"\";position: absolute;border-left: 1px solid gray;box-sizing: border-box;top: 0;bottom: 0;left: 50%;z-index: -1;}#sk-container-id-1 div.sk-parallel-item {display: flex;flex-direction: column;z-index: 1;position: relative;background-color: white;}#sk-container-id-1 div.sk-parallel-item:first-child::after {align-self: flex-end;width: 50%;}#sk-container-id-1 div.sk-parallel-item:last-child::after {align-self: flex-start;width: 50%;}#sk-container-id-1 div.sk-parallel-item:only-child::after {width: 0;}#sk-container-id-1 div.sk-dashed-wrapped {border: 1px dashed gray;margin: 0 0.4em 0.5em 0.4em;box-sizing: border-box;padding-bottom: 0.4em;background-color: white;}#sk-container-id-1 div.sk-label label {font-family: monospace;font-weight: bold;display: inline-block;line-height: 1.2em;}#sk-container-id-1 div.sk-label-container {text-align: center;}#sk-container-id-1 div.sk-container {/* jupyter's `normalize.less` sets `[hidden] { display: none; }` but bootstrap.min.css set `[hidden] { display: none !important; }` so we also need the `!important` here to be able to override the default hidden behavior on the sphinx rendered scikit-learn.org. See: https://github.com/scikit-learn/scikit-learn/issues/21755 */display: inline-block !important;position: relative;}#sk-container-id-1 div.sk-text-repr-fallback {display: none;}</style><div id=\"sk-container-id-1\" class=\"sk-top-container\"><div class=\"sk-text-repr-fallback\"><pre>LinearRegression()</pre><b>In a Jupyter environment, please rerun this cell to show the HTML representation or trust the notebook. <br />On GitHub, the HTML representation is unable to render, please try loading this page with nbviewer.org.</b></div><div class=\"sk-container\" hidden><div class=\"sk-item\"><div class=\"sk-estimator sk-toggleable\"><input class=\"sk-toggleable__control sk-hidden--visually\" id=\"sk-estimator-id-1\" type=\"checkbox\" checked><label for=\"sk-estimator-id-1\" class=\"sk-toggleable__label sk-toggleable__label-arrow\">LinearRegression</label><div class=\"sk-toggleable__content\"><pre>LinearRegression()</pre></div></div></div></div></div>"
      ],
      "text/plain": [
       "LinearRegression()"
      ]
     },
     "execution_count": 14,
     "metadata": {},
     "output_type": "execute_result"
    }
   ],
   "source": [
    "from sklearn.linear_model import LinearRegression\n",
    "\n",
    "regressor = LinearRegression()\n",
    "\n",
    "regressor.fit(X_train, Y_train)"
   ]
  },
  {
   "cell_type": "code",
   "execution_count": 15,
   "id": "b78c0c13",
   "metadata": {},
   "outputs": [
    {
     "name": "stdout",
     "output_type": "stream",
     "text": [
      "The regression coefficients are: [-1.86280085e+03  4.06383296e+03 -2.20103211e+03  8.28371991e-01\n",
      "  5.03972419e-02  2.21861926e-02]\n"
     ]
    }
   ],
   "source": [
    "# Checking the regression coefficients of the fitted model\n",
    "print('The regression coefficients are:', regressor.coef_)"
   ]
  },
  {
   "cell_type": "code",
   "execution_count": 58,
   "id": "a36c243d",
   "metadata": {},
   "outputs": [
    {
     "name": "stdout",
     "output_type": "stream",
     "text": [
      "The intercept 41011.49925654712\n"
     ]
    }
   ],
   "source": [
    "# Checking the intercept\n",
    "print('The intercept', regressor.intercept_)"
   ]
  },
  {
   "cell_type": "code",
   "execution_count": 59,
   "id": "6f676cda",
   "metadata": {},
   "outputs": [
    {
     "name": "stdout",
     "output_type": "stream",
     "text": [
      "Predicted Profit:\n",
      "      Actual Profit  Predicted Profit\n",
      "0       103282.48     111616.742595\n",
      "1       144259.50     132709.494663\n",
      "2       146122.05     140155.210338\n",
      "3        77798.93      76099.303982\n",
      "4       191050.49     186330.042404\n",
      "5       105008.41     112822.298073\n",
      "6        81229.16      63002.103948\n",
      "7        97483.66      99107.204281\n",
      "8       110352.35     119287.854734\n",
      "9       166188.04     175522.938647\n",
      "10       96779.02     101000.798615\n",
      "11       96479.61      85773.092932\n",
      "12      105733.64     117713.864815\n",
      "13       96712.90      90230.980852\n",
      "14      124267.00     133375.143895\n",
      "15      155752.70     167530.647658\n",
      "16      132602.75     158013.646021\n"
     ]
    }
   ],
   "source": [
    "y_pred = regressor.predict(X_test)\n",
    "\n",
    "print(\"Predicted Profit:\\n \", pd.DataFrame(data = {\"Actual Profit\": Y_test,\"Predicted Profit\":y_pred}))"
   ]
  },
  {
   "cell_type": "code",
   "execution_count": 60,
   "id": "84bf11e0",
   "metadata": {},
   "outputs": [],
   "source": [
    "from sklearn.metrics import mean_squared_error, r2_score\n",
    "import math"
   ]
  },
  {
   "cell_type": "code",
   "execution_count": 63,
   "id": "aa0aee7f",
   "metadata": {},
   "outputs": [
    {
     "name": "stdout",
     "output_type": "stream",
     "text": [
      "Mean Squared Error:  118348525.67034309\n"
     ]
    }
   ],
   "source": [
    "MSE = mean_squared_error(Y_test, y_pred)\n",
    "print (\"Mean Squared Error: \", MSE)"
   ]
  },
  {
   "cell_type": "code",
   "execution_count": 64,
   "id": "7fefebb3",
   "metadata": {},
   "outputs": [
    {
     "name": "stdout",
     "output_type": "stream",
     "text": [
      "Root Mean Squared Error:  10878.810857365941\n"
     ]
    }
   ],
   "source": [
    "RMSE = math.sqrt(MSE)\n",
    "\n",
    "print (\"Root Mean Squared Error: \", RMSE)"
   ]
  },
  {
   "cell_type": "code",
   "execution_count": 67,
   "id": "0365ce88",
   "metadata": {},
   "outputs": [
    {
     "name": "stdout",
     "output_type": "stream",
     "text": [
      "R-Squared is: 0.8752655285740152\n"
     ]
    }
   ],
   "source": [
    "R_Squared = r2_score(Y_test, y_pred)\n",
    "print('R-Squared is:', R_Squared)"
   ]
  },
  {
   "cell_type": "code",
   "execution_count": 69,
   "id": "70479635",
   "metadata": {},
   "outputs": [
    {
     "name": "stdout",
     "output_type": "stream",
     "text": [
      "Adjusted R-Squared is: 0.8464806505526341\n"
     ]
    }
   ],
   "source": [
    "Adjusted_R_Squared = 1- ( ((1-R_Squared) *(X_train.shape[0] -1 ))/ (X_train.shape[0] - X_train.shape[1] - 1))\n",
    "\n",
    "print('Adjusted R-Squared is:', Adjusted_R_Squared)"
   ]
  },
  {
   "cell_type": "code",
   "execution_count": 37,
   "id": "acc448e1",
   "metadata": {},
   "outputs": [
    {
     "name": "stdout",
     "output_type": "stream",
     "text": [
      "{'T': 1, 'd': 2, 's': 1}\n"
     ]
    }
   ],
   "source": [
    "def character_frequency(string1):\n",
    "    chars = []\n",
    "    for i in string1:\n",
    "        if i not in chars:\n",
    "            chars.append(i)\n",
    "    output = {key: 0 for key in chars}\n",
    "    \n",
    "    for i in output.keys():\n",
    "        for j in string1:\n",
    "            if i == j:\n",
    "                output[i] += 1\n",
    "    return output\n",
    "print(character_frequency(\"Tdsd\"))"
   ]
  },
  {
   "cell_type": "code",
   "execution_count": null,
   "id": "15466213",
   "metadata": {},
   "outputs": [],
   "source": []
  }
 ],
 "metadata": {
  "kernelspec": {
   "display_name": "Python 3 (ipykernel)",
   "language": "python",
   "name": "python3"
  },
  "language_info": {
   "codemirror_mode": {
    "name": "ipython",
    "version": 3
   },
   "file_extension": ".py",
   "mimetype": "text/x-python",
   "name": "python",
   "nbconvert_exporter": "python",
   "pygments_lexer": "ipython3",
   "version": "3.11.4"
  }
 },
 "nbformat": 4,
 "nbformat_minor": 5
}
